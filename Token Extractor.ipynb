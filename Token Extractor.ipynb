{
 "cells": [
  {
   "cell_type": "code",
   "execution_count": 1,
   "id": "43dab841-f936-4af3-a267-8d36f25b0291",
   "metadata": {},
   "outputs": [],
   "source": [
    "import pandas as pd\n",
    "import string"
   ]
  },
  {
   "cell_type": "code",
   "execution_count": 2,
   "id": "dcca8195-5344-443f-8f83-677593c530d6",
   "metadata": {},
   "outputs": [],
   "source": [
    "dataframe=pd.read_excel('ImpactFactor2024.xlsx')"
   ]
  },
  {
   "cell_type": "code",
   "execution_count": 3,
   "id": "22f026ff-32ea-4665-be55-fa28788d63f9",
   "metadata": {},
   "outputs": [
    {
     "data": {
      "text/html": [
       "<div>\n",
       "<style scoped>\n",
       "    .dataframe tbody tr th:only-of-type {\n",
       "        vertical-align: middle;\n",
       "    }\n",
       "\n",
       "    .dataframe tbody tr th {\n",
       "        vertical-align: top;\n",
       "    }\n",
       "\n",
       "    .dataframe thead th {\n",
       "        text-align: right;\n",
       "    }\n",
       "</style>\n",
       "<table border=\"1\" class=\"dataframe\">\n",
       "  <thead>\n",
       "    <tr style=\"text-align: right;\">\n",
       "      <th></th>\n",
       "      <th>Name</th>\n",
       "      <th>Abbr Name</th>\n",
       "      <th>ISSN</th>\n",
       "      <th>EISSN</th>\n",
       "      <th>JIF</th>\n",
       "      <th>JIF5Years</th>\n",
       "      <th>Category</th>\n",
       "    </tr>\n",
       "  </thead>\n",
       "  <tbody>\n",
       "    <tr>\n",
       "      <th>0</th>\n",
       "      <td>CA-A CANCER JOURNAL FOR CLINICIANS</td>\n",
       "      <td>CA-CANCER J CLIN</td>\n",
       "      <td>0007-9235</td>\n",
       "      <td>1542-4863</td>\n",
       "      <td>503.1</td>\n",
       "      <td>297.0</td>\n",
       "      <td>ONCOLOGY|Q1|1/322</td>\n",
       "    </tr>\n",
       "    <tr>\n",
       "      <th>1</th>\n",
       "      <td>NATURE REVIEWS DRUG DISCOVERY</td>\n",
       "      <td>NAT REV DRUG DISCOV</td>\n",
       "      <td>1474-1776</td>\n",
       "      <td>1474-1784</td>\n",
       "      <td>122.7</td>\n",
       "      <td>114.9</td>\n",
       "      <td>PHARMACOLOGY &amp; PHARMACY|Q1|1/354</td>\n",
       "    </tr>\n",
       "    <tr>\n",
       "      <th>2</th>\n",
       "      <td>LANCET</td>\n",
       "      <td>LANCET</td>\n",
       "      <td>0140-6736</td>\n",
       "      <td>1474-547X</td>\n",
       "      <td>98.4</td>\n",
       "      <td>106.9</td>\n",
       "      <td>MEDICINE, GENERAL &amp; INTERNAL|Q1|1/325</td>\n",
       "    </tr>\n",
       "    <tr>\n",
       "      <th>3</th>\n",
       "      <td>NEW ENGLAND JOURNAL OF MEDICINE</td>\n",
       "      <td>NEW ENGL J MED</td>\n",
       "      <td>0028-4793</td>\n",
       "      <td>1533-4406</td>\n",
       "      <td>96.2</td>\n",
       "      <td>94.3</td>\n",
       "      <td>MEDICINE, GENERAL &amp; INTERNAL|Q1|2/325</td>\n",
       "    </tr>\n",
       "    <tr>\n",
       "      <th>4</th>\n",
       "      <td>BMJ-British Medical Journal</td>\n",
       "      <td>BMJ-BRIT MED J</td>\n",
       "      <td>0959-535X</td>\n",
       "      <td>1756-1833</td>\n",
       "      <td>93.6</td>\n",
       "      <td>69.9</td>\n",
       "      <td>MEDICINE, GENERAL &amp; INTERNAL|Q1|3/325</td>\n",
       "    </tr>\n",
       "    <tr>\n",
       "      <th>...</th>\n",
       "      <td>...</td>\n",
       "      <td>...</td>\n",
       "      <td>...</td>\n",
       "      <td>...</td>\n",
       "      <td>...</td>\n",
       "      <td>...</td>\n",
       "      <td>...</td>\n",
       "    </tr>\n",
       "    <tr>\n",
       "      <th>21795</th>\n",
       "      <td>European Journal of Medical Genetics</td>\n",
       "      <td>EUR J MED GENET</td>\n",
       "      <td>1769-7212</td>\n",
       "      <td>1878-0849</td>\n",
       "      <td>1.6</td>\n",
       "      <td>1.8</td>\n",
       "      <td>GENETICS &amp; HEREDITY|Q3|143/191</td>\n",
       "    </tr>\n",
       "    <tr>\n",
       "      <th>21796</th>\n",
       "      <td>EXPERIMENTAL AND CLINICAL ENDOCRINOLOGY &amp; DIAB...</td>\n",
       "      <td>EXP CLIN ENDOCR DIAB</td>\n",
       "      <td>0947-7349</td>\n",
       "      <td>1439-3646</td>\n",
       "      <td>1.6</td>\n",
       "      <td>2.0</td>\n",
       "      <td>ENDOCRINOLOGY &amp; METABOLISM|Q4|149/186</td>\n",
       "    </tr>\n",
       "    <tr>\n",
       "      <th>21797</th>\n",
       "      <td>Health Promotion Practice</td>\n",
       "      <td>HEALTH PROMOT PRACT</td>\n",
       "      <td>1524-8399</td>\n",
       "      <td>1552-6372</td>\n",
       "      <td>1.6</td>\n",
       "      <td>1.7</td>\n",
       "      <td>PUBLIC, ENVIRONMENTAL &amp; OCCUPATIONAL HEALTH|Q3...</td>\n",
       "    </tr>\n",
       "    <tr>\n",
       "      <th>21798</th>\n",
       "      <td>High Energy Density Physics</td>\n",
       "      <td>HIGH ENERG DENS PHYS</td>\n",
       "      <td>1574-1818</td>\n",
       "      <td>1878-0563</td>\n",
       "      <td>1.6</td>\n",
       "      <td>1.3</td>\n",
       "      <td>PHYSICS, FLUIDS &amp; PLASMAS|Q3|26/40</td>\n",
       "    </tr>\n",
       "    <tr>\n",
       "      <th>21799</th>\n",
       "      <td>International Journal on Digital Libraries</td>\n",
       "      <td>INT J DIGIT LIBRARIE</td>\n",
       "      <td>1432-5012</td>\n",
       "      <td>1432-1300</td>\n",
       "      <td>1.6</td>\n",
       "      <td>1.7</td>\n",
       "      <td>INFORMATION SCIENCE &amp; LIBRARY SCIENCE|Q2|65/160</td>\n",
       "    </tr>\n",
       "  </tbody>\n",
       "</table>\n",
       "<p>21800 rows × 7 columns</p>\n",
       "</div>"
      ],
      "text/plain": [
       "                                                    Name  \\\n",
       "0                     CA-A CANCER JOURNAL FOR CLINICIANS   \n",
       "1                          NATURE REVIEWS DRUG DISCOVERY   \n",
       "2                                                 LANCET   \n",
       "3                        NEW ENGLAND JOURNAL OF MEDICINE   \n",
       "4                            BMJ-British Medical Journal   \n",
       "...                                                  ...   \n",
       "21795               European Journal of Medical Genetics   \n",
       "21796  EXPERIMENTAL AND CLINICAL ENDOCRINOLOGY & DIAB...   \n",
       "21797                          Health Promotion Practice   \n",
       "21798                        High Energy Density Physics   \n",
       "21799         International Journal on Digital Libraries   \n",
       "\n",
       "                  Abbr Name       ISSN      EISSN    JIF JIF5Years  \\\n",
       "0          CA-CANCER J CLIN  0007-9235  1542-4863  503.1     297.0   \n",
       "1       NAT REV DRUG DISCOV  1474-1776  1474-1784  122.7     114.9   \n",
       "2                    LANCET  0140-6736  1474-547X   98.4     106.9   \n",
       "3            NEW ENGL J MED  0028-4793  1533-4406   96.2      94.3   \n",
       "4            BMJ-BRIT MED J  0959-535X  1756-1833   93.6      69.9   \n",
       "...                     ...        ...        ...    ...       ...   \n",
       "21795       EUR J MED GENET  1769-7212  1878-0849    1.6       1.8   \n",
       "21796  EXP CLIN ENDOCR DIAB  0947-7349  1439-3646    1.6       2.0   \n",
       "21797   HEALTH PROMOT PRACT  1524-8399  1552-6372    1.6       1.7   \n",
       "21798  HIGH ENERG DENS PHYS  1574-1818  1878-0563    1.6       1.3   \n",
       "21799  INT J DIGIT LIBRARIE  1432-5012  1432-1300    1.6       1.7   \n",
       "\n",
       "                                                Category  \n",
       "0                                      ONCOLOGY|Q1|1/322  \n",
       "1                       PHARMACOLOGY & PHARMACY|Q1|1/354  \n",
       "2                  MEDICINE, GENERAL & INTERNAL|Q1|1/325  \n",
       "3                  MEDICINE, GENERAL & INTERNAL|Q1|2/325  \n",
       "4                  MEDICINE, GENERAL & INTERNAL|Q1|3/325  \n",
       "...                                                  ...  \n",
       "21795                     GENETICS & HEREDITY|Q3|143/191  \n",
       "21796              ENDOCRINOLOGY & METABOLISM|Q4|149/186  \n",
       "21797  PUBLIC, ENVIRONMENTAL & OCCUPATIONAL HEALTH|Q3...  \n",
       "21798                 PHYSICS, FLUIDS & PLASMAS|Q3|26/40  \n",
       "21799    INFORMATION SCIENCE & LIBRARY SCIENCE|Q2|65/160  \n",
       "\n",
       "[21800 rows x 7 columns]"
      ]
     },
     "execution_count": 3,
     "metadata": {},
     "output_type": "execute_result"
    }
   ],
   "source": [
    "dataframe"
   ]
  },
  {
   "cell_type": "code",
   "execution_count": 4,
   "id": "221cc8cb-17b8-46b3-b903-0f80d626b889",
   "metadata": {},
   "outputs": [],
   "source": [
    "dataframe=dataframe.drop(['Abbr Name','ISSN',\t'EISSN'],axis=1)"
   ]
  },
  {
   "cell_type": "code",
   "execution_count": 5,
   "id": "b14a3567-8e03-4a84-bad9-7a9ca4647e2c",
   "metadata": {},
   "outputs": [
    {
     "data": {
      "text/html": [
       "<div>\n",
       "<style scoped>\n",
       "    .dataframe tbody tr th:only-of-type {\n",
       "        vertical-align: middle;\n",
       "    }\n",
       "\n",
       "    .dataframe tbody tr th {\n",
       "        vertical-align: top;\n",
       "    }\n",
       "\n",
       "    .dataframe thead th {\n",
       "        text-align: right;\n",
       "    }\n",
       "</style>\n",
       "<table border=\"1\" class=\"dataframe\">\n",
       "  <thead>\n",
       "    <tr style=\"text-align: right;\">\n",
       "      <th></th>\n",
       "      <th>Name</th>\n",
       "      <th>JIF</th>\n",
       "      <th>JIF5Years</th>\n",
       "      <th>Category</th>\n",
       "    </tr>\n",
       "  </thead>\n",
       "  <tbody>\n",
       "    <tr>\n",
       "      <th>0</th>\n",
       "      <td>CA-A CANCER JOURNAL FOR CLINICIANS</td>\n",
       "      <td>503.1</td>\n",
       "      <td>297.0</td>\n",
       "      <td>ONCOLOGY|Q1|1/322</td>\n",
       "    </tr>\n",
       "    <tr>\n",
       "      <th>1</th>\n",
       "      <td>NATURE REVIEWS DRUG DISCOVERY</td>\n",
       "      <td>122.7</td>\n",
       "      <td>114.9</td>\n",
       "      <td>PHARMACOLOGY &amp; PHARMACY|Q1|1/354</td>\n",
       "    </tr>\n",
       "    <tr>\n",
       "      <th>2</th>\n",
       "      <td>LANCET</td>\n",
       "      <td>98.4</td>\n",
       "      <td>106.9</td>\n",
       "      <td>MEDICINE, GENERAL &amp; INTERNAL|Q1|1/325</td>\n",
       "    </tr>\n",
       "    <tr>\n",
       "      <th>3</th>\n",
       "      <td>NEW ENGLAND JOURNAL OF MEDICINE</td>\n",
       "      <td>96.2</td>\n",
       "      <td>94.3</td>\n",
       "      <td>MEDICINE, GENERAL &amp; INTERNAL|Q1|2/325</td>\n",
       "    </tr>\n",
       "    <tr>\n",
       "      <th>4</th>\n",
       "      <td>BMJ-British Medical Journal</td>\n",
       "      <td>93.6</td>\n",
       "      <td>69.9</td>\n",
       "      <td>MEDICINE, GENERAL &amp; INTERNAL|Q1|3/325</td>\n",
       "    </tr>\n",
       "  </tbody>\n",
       "</table>\n",
       "</div>"
      ],
      "text/plain": [
       "                                 Name    JIF JIF5Years  \\\n",
       "0  CA-A CANCER JOURNAL FOR CLINICIANS  503.1     297.0   \n",
       "1       NATURE REVIEWS DRUG DISCOVERY  122.7     114.9   \n",
       "2                              LANCET   98.4     106.9   \n",
       "3     NEW ENGLAND JOURNAL OF MEDICINE   96.2      94.3   \n",
       "4         BMJ-British Medical Journal   93.6      69.9   \n",
       "\n",
       "                                Category  \n",
       "0                      ONCOLOGY|Q1|1/322  \n",
       "1       PHARMACOLOGY & PHARMACY|Q1|1/354  \n",
       "2  MEDICINE, GENERAL & INTERNAL|Q1|1/325  \n",
       "3  MEDICINE, GENERAL & INTERNAL|Q1|2/325  \n",
       "4  MEDICINE, GENERAL & INTERNAL|Q1|3/325  "
      ]
     },
     "execution_count": 5,
     "metadata": {},
     "output_type": "execute_result"
    }
   ],
   "source": [
    "dataframe.head()"
   ]
  },
  {
   "cell_type": "code",
   "execution_count": 6,
   "id": "cc91e240-6050-4096-a5a6-ef18ff5fe3af",
   "metadata": {},
   "outputs": [],
   "source": [
    "dataframe['Keywords']=dataframe['Name'].str.split()+dataframe['Category'].str.split()"
   ]
  },
  {
   "cell_type": "code",
   "execution_count": 7,
   "id": "521a1b9a-d889-47ba-9796-a88cbb698ca1",
   "metadata": {},
   "outputs": [
    {
     "data": {
      "text/plain": [
       "['JOURNAL',\n",
       " 'OF',\n",
       " 'EXTENSION',\n",
       " 'EDUCATION',\n",
       " '&',\n",
       " 'EDUCATIONAL',\n",
       " 'RESEARCH|Q4|606/756']"
      ]
     },
     "execution_count": 7,
     "metadata": {},
     "output_type": "execute_result"
    }
   ],
   "source": [
    "dataframe['Keywords'][8654]"
   ]
  },
  {
   "cell_type": "code",
   "execution_count": 8,
   "id": "c4b63430-f179-4f1f-aa18-e25d2e996519",
   "metadata": {},
   "outputs": [],
   "source": [
    "def remove_punctuation_from_lists(df,column_name):\n",
    "    translator = str.maketrans('', '', string.punctuation)\n",
    "    def process_list(lst):\n",
    "        return [s for s in lst if not (isinstance(s, str) and len(s) == 1 and s in string.punctuation)]\n",
    "    df[column_name] = df[column_name].map(process_list)\n",
    "    \n",
    "    return df"
   ]
  },
  {
   "cell_type": "code",
   "execution_count": 9,
   "id": "ee78bb74-20aa-428a-8421-93560536992a",
   "metadata": {},
   "outputs": [],
   "source": [
    "df=dataframe\n",
    "df_cleaned = remove_punctuation_from_lists(df,'Keywords')"
   ]
  },
  {
   "cell_type": "code",
   "execution_count": 10,
   "id": "26e79783-1b54-4504-a489-50c089f55e0c",
   "metadata": {},
   "outputs": [
    {
     "data": {
      "text/html": [
       "<div>\n",
       "<style scoped>\n",
       "    .dataframe tbody tr th:only-of-type {\n",
       "        vertical-align: middle;\n",
       "    }\n",
       "\n",
       "    .dataframe tbody tr th {\n",
       "        vertical-align: top;\n",
       "    }\n",
       "\n",
       "    .dataframe thead th {\n",
       "        text-align: right;\n",
       "    }\n",
       "</style>\n",
       "<table border=\"1\" class=\"dataframe\">\n",
       "  <thead>\n",
       "    <tr style=\"text-align: right;\">\n",
       "      <th></th>\n",
       "      <th>Name</th>\n",
       "      <th>JIF</th>\n",
       "      <th>JIF5Years</th>\n",
       "      <th>Category</th>\n",
       "      <th>Keywords</th>\n",
       "    </tr>\n",
       "  </thead>\n",
       "  <tbody>\n",
       "    <tr>\n",
       "      <th>0</th>\n",
       "      <td>CA-A CANCER JOURNAL FOR CLINICIANS</td>\n",
       "      <td>503.1</td>\n",
       "      <td>297.0</td>\n",
       "      <td>ONCOLOGY|Q1|1/322</td>\n",
       "      <td>[CA-A, CANCER, JOURNAL, FOR, CLINICIANS, ONCOL...</td>\n",
       "    </tr>\n",
       "    <tr>\n",
       "      <th>1</th>\n",
       "      <td>NATURE REVIEWS DRUG DISCOVERY</td>\n",
       "      <td>122.7</td>\n",
       "      <td>114.9</td>\n",
       "      <td>PHARMACOLOGY &amp; PHARMACY|Q1|1/354</td>\n",
       "      <td>[NATURE, REVIEWS, DRUG, DISCOVERY, PHARMACOLOG...</td>\n",
       "    </tr>\n",
       "    <tr>\n",
       "      <th>2</th>\n",
       "      <td>LANCET</td>\n",
       "      <td>98.4</td>\n",
       "      <td>106.9</td>\n",
       "      <td>MEDICINE, GENERAL &amp; INTERNAL|Q1|1/325</td>\n",
       "      <td>[LANCET, MEDICINE,, GENERAL, INTERNAL|Q1|1/325]</td>\n",
       "    </tr>\n",
       "    <tr>\n",
       "      <th>3</th>\n",
       "      <td>NEW ENGLAND JOURNAL OF MEDICINE</td>\n",
       "      <td>96.2</td>\n",
       "      <td>94.3</td>\n",
       "      <td>MEDICINE, GENERAL &amp; INTERNAL|Q1|2/325</td>\n",
       "      <td>[NEW, ENGLAND, JOURNAL, OF, MEDICINE, MEDICINE...</td>\n",
       "    </tr>\n",
       "    <tr>\n",
       "      <th>4</th>\n",
       "      <td>BMJ-British Medical Journal</td>\n",
       "      <td>93.6</td>\n",
       "      <td>69.9</td>\n",
       "      <td>MEDICINE, GENERAL &amp; INTERNAL|Q1|3/325</td>\n",
       "      <td>[BMJ-British, Medical, Journal, MEDICINE,, GEN...</td>\n",
       "    </tr>\n",
       "  </tbody>\n",
       "</table>\n",
       "</div>"
      ],
      "text/plain": [
       "                                 Name    JIF JIF5Years  \\\n",
       "0  CA-A CANCER JOURNAL FOR CLINICIANS  503.1     297.0   \n",
       "1       NATURE REVIEWS DRUG DISCOVERY  122.7     114.9   \n",
       "2                              LANCET   98.4     106.9   \n",
       "3     NEW ENGLAND JOURNAL OF MEDICINE   96.2      94.3   \n",
       "4         BMJ-British Medical Journal   93.6      69.9   \n",
       "\n",
       "                                Category  \\\n",
       "0                      ONCOLOGY|Q1|1/322   \n",
       "1       PHARMACOLOGY & PHARMACY|Q1|1/354   \n",
       "2  MEDICINE, GENERAL & INTERNAL|Q1|1/325   \n",
       "3  MEDICINE, GENERAL & INTERNAL|Q1|2/325   \n",
       "4  MEDICINE, GENERAL & INTERNAL|Q1|3/325   \n",
       "\n",
       "                                            Keywords  \n",
       "0  [CA-A, CANCER, JOURNAL, FOR, CLINICIANS, ONCOL...  \n",
       "1  [NATURE, REVIEWS, DRUG, DISCOVERY, PHARMACOLOG...  \n",
       "2    [LANCET, MEDICINE,, GENERAL, INTERNAL|Q1|1/325]  \n",
       "3  [NEW, ENGLAND, JOURNAL, OF, MEDICINE, MEDICINE...  \n",
       "4  [BMJ-British, Medical, Journal, MEDICINE,, GEN...  "
      ]
     },
     "execution_count": 10,
     "metadata": {},
     "output_type": "execute_result"
    }
   ],
   "source": [
    "df_cleaned.head()"
   ]
  },
  {
   "cell_type": "code",
   "execution_count": 11,
   "id": "966f123a-2f01-41bf-a68e-d093ba53c5b8",
   "metadata": {},
   "outputs": [
    {
     "data": {
      "text/plain": [
       "['NATURE', 'REVIEWS', 'DRUG', 'DISCOVERY', 'PHARMACOLOGY', 'PHARMACY|Q1|1/354']"
      ]
     },
     "execution_count": 11,
     "metadata": {},
     "output_type": "execute_result"
    }
   ],
   "source": [
    "df_cleaned['Keywords'][1]"
   ]
  },
  {
   "cell_type": "code",
   "execution_count": 12,
   "id": "0be60dd5-1e9a-492b-806c-bf21ed5ad587",
   "metadata": {},
   "outputs": [],
   "source": [
    "dataframe=df"
   ]
  },
  {
   "cell_type": "code",
   "execution_count": 21,
   "id": "1816c3df-eb05-48b0-9be7-490af828630e",
   "metadata": {},
   "outputs": [],
   "source": [
    "dataframe=pd.DataFrame(dataframe)\n",
    "dataframe.to_excel('Modified Sheet.xlsx',index=False)"
   ]
  },
  {
   "cell_type": "code",
   "execution_count": null,
   "id": "78633c49",
   "metadata": {},
   "outputs": [],
   "source": [
    "!pip install langchain_groq\n",
    "!pip install python-dotenv"
   ]
  },
  {
   "cell_type": "code",
   "execution_count": 43,
   "id": "abbe4f1d",
   "metadata": {},
   "outputs": [],
   "source": [
    "import os\n",
    "import google.generativeai as genai\n",
    "from dotenv import load_dotenv\n",
    "load_dotenv()\n",
    "os.environ[\"GROQ_API_KEY\"] = os.getenv(\"GROQ_API_KEY\")"
   ]
  },
  {
   "cell_type": "code",
   "execution_count": 34,
   "id": "d90da97d",
   "metadata": {},
   "outputs": [],
   "source": [
    "from langchain_groq import ChatGroq\n",
    "llm = ChatGroq(model=\"llama3-8b-8192\",temperature=0)\n",
    "def llm_invoke(name,category):\n",
    "    messages = [\n",
    "        {\n",
    "            \"role\": \"system\",\n",
    "            \"content\": (\n",
    "                \"You are a research published finder you have to see the Name Of the Paper and Category and tell the Publisher like Springer, IEEE etc.\"\n",
    "                \"Do not include any bullet points, introductory text, or ending text. \"\n",
    "                \"Do not say anything like 'Here are the keywords.' \"\n",
    "                \"Only return a single word\"\n",
    "            )\n",
    "        },\n",
    "        {\n",
    "            \"role\": \"user\",\n",
    "            \"content\": name + \" \" + category\n",
    "        }\n",
    "    ]\n",
    "    ai_msg = llm.invoke(messages)\n",
    "    print(ai_msg.content)\n"
   ]
  },
  {
   "cell_type": "code",
   "execution_count": 35,
   "id": "1a2bb528",
   "metadata": {},
   "outputs": [
    {
     "name": "stdout",
     "output_type": "stream",
     "text": [
      "Springer\n"
     ]
    }
   ],
   "source": [
    "llm_invoke(\"Pragmatic and Observational Research\",\"MEDICINE, GENERAL & INTERNAL|Q2|87/325\")"
   ]
  },
  {
   "cell_type": "code",
   "execution_count": 36,
   "id": "f3521f12",
   "metadata": {},
   "outputs": [
    {
     "name": "stdout",
     "output_type": "stream",
     "text": [
      "Collecting together\n",
      "  Downloading together-1.3.0-py3-none-any.whl.metadata (11 kB)\n",
      "Requirement already satisfied: aiohttp<4.0.0,>=3.9.3 in c:\\users\\sarth\\appdata\\local\\programs\\python\\python312\\lib\\site-packages (from together) (3.10.6)\n",
      "Requirement already satisfied: click<9.0.0,>=8.1.7 in c:\\users\\sarth\\appdata\\local\\programs\\python\\python312\\lib\\site-packages (from together) (8.1.7)\n",
      "Collecting eval-type-backport<0.3.0,>=0.1.3 (from together)\n",
      "  Downloading eval_type_backport-0.2.0-py3-none-any.whl.metadata (2.2 kB)\n",
      "Requirement already satisfied: filelock<4.0.0,>=3.13.1 in c:\\users\\sarth\\appdata\\local\\programs\\python\\python312\\lib\\site-packages (from together) (3.16.1)\n",
      "Requirement already satisfied: numpy>=1.26.0 in c:\\users\\sarth\\appdata\\local\\programs\\python\\python312\\lib\\site-packages (from together) (1.26.4)\n",
      "Requirement already satisfied: pillow<11.0.0,>=10.3.0 in c:\\users\\sarth\\appdata\\local\\programs\\python\\python312\\lib\\site-packages (from together) (10.4.0)\n",
      "Requirement already satisfied: pyarrow>=10.0.1 in c:\\users\\sarth\\appdata\\local\\programs\\python\\python312\\lib\\site-packages (from together) (17.0.0)\n",
      "Requirement already satisfied: pydantic<3.0.0,>=2.6.3 in c:\\users\\sarth\\appdata\\local\\programs\\python\\python312\\lib\\site-packages (from together) (2.9.2)\n",
      "Requirement already satisfied: requests<3.0.0,>=2.31.0 in c:\\users\\sarth\\appdata\\local\\programs\\python\\python312\\lib\\site-packages (from together) (2.32.3)\n",
      "Requirement already satisfied: rich<14.0.0,>=13.8.1 in c:\\users\\sarth\\appdata\\local\\programs\\python\\python312\\lib\\site-packages (from together) (13.8.1)\n",
      "Collecting tabulate<0.10.0,>=0.9.0 (from together)\n",
      "  Downloading tabulate-0.9.0-py3-none-any.whl.metadata (34 kB)\n",
      "Requirement already satisfied: tqdm<5.0.0,>=4.66.2 in c:\\users\\sarth\\appdata\\local\\programs\\python\\python312\\lib\\site-packages (from together) (4.66.5)\n",
      "Collecting typer<0.13,>=0.9 (from together)\n",
      "  Downloading typer-0.12.5-py3-none-any.whl.metadata (15 kB)\n",
      "Requirement already satisfied: aiohappyeyeballs>=2.3.0 in c:\\users\\sarth\\appdata\\local\\programs\\python\\python312\\lib\\site-packages (from aiohttp<4.0.0,>=3.9.3->together) (2.4.0)\n",
      "Requirement already satisfied: aiosignal>=1.1.2 in c:\\users\\sarth\\appdata\\local\\programs\\python\\python312\\lib\\site-packages (from aiohttp<4.0.0,>=3.9.3->together) (1.3.1)\n",
      "Requirement already satisfied: attrs>=17.3.0 in c:\\users\\sarth\\appdata\\local\\programs\\python\\python312\\lib\\site-packages (from aiohttp<4.0.0,>=3.9.3->together) (24.2.0)\n",
      "Requirement already satisfied: frozenlist>=1.1.1 in c:\\users\\sarth\\appdata\\local\\programs\\python\\python312\\lib\\site-packages (from aiohttp<4.0.0,>=3.9.3->together) (1.4.1)\n",
      "Requirement already satisfied: multidict<7.0,>=4.5 in c:\\users\\sarth\\appdata\\local\\programs\\python\\python312\\lib\\site-packages (from aiohttp<4.0.0,>=3.9.3->together) (6.1.0)\n",
      "Requirement already satisfied: yarl<2.0,>=1.12.0 in c:\\users\\sarth\\appdata\\local\\programs\\python\\python312\\lib\\site-packages (from aiohttp<4.0.0,>=3.9.3->together) (1.12.1)\n",
      "Requirement already satisfied: colorama in c:\\users\\sarth\\appdata\\local\\programs\\python\\python312\\lib\\site-packages (from click<9.0.0,>=8.1.7->together) (0.4.6)\n",
      "Requirement already satisfied: annotated-types>=0.6.0 in c:\\users\\sarth\\appdata\\local\\programs\\python\\python312\\lib\\site-packages (from pydantic<3.0.0,>=2.6.3->together) (0.7.0)\n",
      "Requirement already satisfied: pydantic-core==2.23.4 in c:\\users\\sarth\\appdata\\local\\programs\\python\\python312\\lib\\site-packages (from pydantic<3.0.0,>=2.6.3->together) (2.23.4)\n",
      "Requirement already satisfied: typing-extensions>=4.6.1 in c:\\users\\sarth\\appdata\\local\\programs\\python\\python312\\lib\\site-packages (from pydantic<3.0.0,>=2.6.3->together) (4.12.2)\n",
      "Requirement already satisfied: charset-normalizer<4,>=2 in c:\\users\\sarth\\appdata\\local\\programs\\python\\python312\\lib\\site-packages (from requests<3.0.0,>=2.31.0->together) (3.3.2)\n",
      "Requirement already satisfied: idna<4,>=2.5 in c:\\users\\sarth\\appdata\\local\\programs\\python\\python312\\lib\\site-packages (from requests<3.0.0,>=2.31.0->together) (3.10)\n",
      "Requirement already satisfied: urllib3<3,>=1.21.1 in c:\\users\\sarth\\appdata\\local\\programs\\python\\python312\\lib\\site-packages (from requests<3.0.0,>=2.31.0->together) (2.2.3)\n",
      "Requirement already satisfied: certifi>=2017.4.17 in c:\\users\\sarth\\appdata\\local\\programs\\python\\python312\\lib\\site-packages (from requests<3.0.0,>=2.31.0->together) (2024.8.30)\n",
      "Requirement already satisfied: markdown-it-py>=2.2.0 in c:\\users\\sarth\\appdata\\local\\programs\\python\\python312\\lib\\site-packages (from rich<14.0.0,>=13.8.1->together) (3.0.0)\n",
      "Requirement already satisfied: pygments<3.0.0,>=2.13.0 in c:\\users\\sarth\\appdata\\local\\programs\\python\\python312\\lib\\site-packages (from rich<14.0.0,>=13.8.1->together) (2.18.0)\n",
      "Collecting shellingham>=1.3.0 (from typer<0.13,>=0.9->together)\n",
      "  Downloading shellingham-1.5.4-py2.py3-none-any.whl.metadata (3.5 kB)\n",
      "Requirement already satisfied: mdurl~=0.1 in c:\\users\\sarth\\appdata\\local\\programs\\python\\python312\\lib\\site-packages (from markdown-it-py>=2.2.0->rich<14.0.0,>=13.8.1->together) (0.1.2)\n",
      "Downloading together-1.3.0-py3-none-any.whl (67 kB)\n",
      "Downloading eval_type_backport-0.2.0-py3-none-any.whl (5.9 kB)\n",
      "Downloading tabulate-0.9.0-py3-none-any.whl (35 kB)\n",
      "Downloading typer-0.12.5-py3-none-any.whl (47 kB)\n",
      "Downloading shellingham-1.5.4-py2.py3-none-any.whl (9.8 kB)\n",
      "Installing collected packages: tabulate, shellingham, eval-type-backport, typer, together\n",
      "Successfully installed eval-type-backport-0.2.0 shellingham-1.5.4 tabulate-0.9.0 together-1.3.0 typer-0.12.5\n"
     ]
    }
   ],
   "source": [
    "!pip install together"
   ]
  },
  {
   "cell_type": "code",
   "execution_count": 80,
   "id": "75240250",
   "metadata": {},
   "outputs": [],
   "source": [
    "from together import Together\n",
    "from dotenv import load_dotenv\n",
    "load_dotenv()\n",
    "client = Together(api_key=os.environ.get('TOGETHER_API_KEY'))\n",
    "def together_llm(name,category):\n",
    "    response = client.chat.completions.create(\n",
    "        model=\"meta-llama/Meta-Llama-3.1-8B-Instruct-Turbo\",\n",
    "         messages = [\n",
    "        {\n",
    "            \"role\": \"system\",\n",
    "            \"content\": (\n",
    "                \"You are a research published finder you have to see the Name Of the Paper and Category and tell the Publisher like Springer, IEEE etc.\"\n",
    "                \"Do not include any bullet points, introductory text, or ending text\"\n",
    "                \"Do not say anything like 'Journal of General Interna lMedicine' \"\n",
    "                \"Only return a single word as response\"\n",
    "            )\n",
    "        },\n",
    "        {\n",
    "            \"role\": \"user\",\n",
    "            \"content\": name + \" \" + category\n",
    "        }\n",
    "        ],\n",
    "        #temperature=0.7,\n",
    "        #top_p=0.7,\n",
    "        #top_k=50,\n",
    "        #repetition_penalty=1,\n",
    "        #stop=[\"<|eot_id|>\",\"<|eom_id|>\"],\n",
    "        stream=True\n",
    "    )\n",
    "    res=\"\"\n",
    "    for chunk in response:\n",
    "        # Print the chunk to debug the response structure\n",
    "        res += chunk.choices[0].delta.content;\n",
    "\n",
    "    print(res)\n",
    "      \n",
    "    \n",
    "   \n"
   ]
  },
  {
   "cell_type": "code",
   "execution_count": 81,
   "id": "88eedf8a",
   "metadata": {},
   "outputs": [
    {
     "name": "stdout",
     "output_type": "stream",
     "text": [
      "Springer\n"
     ]
    }
   ],
   "source": [
    "together_llm(\"Pragmatic and Observational Research\",\"MEDICINE, GENERAL & INTERNAL|Q2|87/325\")"
   ]
  }
 ],
 "metadata": {
  "kernelspec": {
   "display_name": "Python 3 (ipykernel)",
   "language": "python",
   "name": "python3"
  },
  "language_info": {
   "codemirror_mode": {
    "name": "ipython",
    "version": 3
   },
   "file_extension": ".py",
   "mimetype": "text/x-python",
   "name": "python",
   "nbconvert_exporter": "python",
   "pygments_lexer": "ipython3",
   "version": "3.12.6"
  }
 },
 "nbformat": 4,
 "nbformat_minor": 5
}
